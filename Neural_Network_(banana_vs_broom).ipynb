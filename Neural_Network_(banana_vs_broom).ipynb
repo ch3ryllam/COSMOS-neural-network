{
  "cells": [
    {
      "cell_type": "code",
      "execution_count": 2,
      "id": "7a5cbb12",
      "metadata": {
        "id": "7a5cbb12"
      },
      "outputs": [],
      "source": [
        "import numpy as np\n",
        "import matplotlib.pyplot as plt\n",
        "%matplotlib inline\n",
        "\n",
        "from sklearn.neural_network import MLPClassifier"
      ]
    },
    {
      "cell_type": "code",
      "source": [
        "from IPython.display import display, Javascript, Image\n",
        "from google.colab.output import eval_js\n",
        "from base64 import b64decode\n",
        "from skimage.transform import resize\n",
        "import matplotlib.pyplot as plt\n",
        "import numpy as np\n",
        "\n",
        "def test_library():\n",
        "  print('Testing the library')\n",
        "\n",
        "def take_photo(filename='webcam.jpg', quality=0.8):\n",
        "  js = Javascript('''\n",
        "    async function takePhoto(quality) {\n",
        "      const div = document.createElement('div');\n",
        "      const capture = document.createElement('button');\n",
        "      capture.textContent = 'Capture';\n",
        "      div.appendChild(capture);\n",
        "\n",
        "      const video = document.createElement('video');\n",
        "      video.style.display = 'block';\n",
        "      const stream = await navigator.mediaDevices.getUserMedia({video: true});\n",
        "\n",
        "      document.body.appendChild(div);\n",
        "      div.appendChild(video);\n",
        "      video.srcObject = stream;\n",
        "      await video.play();\n",
        "\n",
        "      google.colab.output.setIframeHeight(document.documentElement.scrollHeight, true);\n",
        "\n",
        "      await new Promise((resolve) => capture.onclick = resolve);\n",
        "\n",
        "      const canvas = document.createElement('canvas');\n",
        "      canvas.width = video.videoWidth;\n",
        "      canvas.height = video.videoHeight;\n",
        "      canvas.getContext('2d').drawImage(video, 0, 0);\n",
        "      stream.getVideoTracks()[0].stop();\n",
        "      div.remove();\n",
        "      return canvas.toDataURL('image/jpeg', quality);\n",
        "    }\n",
        "    ''')\n",
        "  display(js)\n",
        "  data = eval_js('takePhoto({})'.format(quality))\n",
        "  binary = b64decode(data.split(',')[1])\n",
        "  with open(filename, 'wb') as f:\n",
        "    f.write(binary)\n",
        "  return binary,filename\n",
        "\n",
        "def grab_from_webcam(filename):\n",
        "  try:\n",
        "    binary, filename = take_photo(filename)\n",
        "  except Exception as err:\n",
        "    print(str(err)) \n",
        "\n",
        "def get_webcam(filename = 'webcam.jpg'):\n",
        "  grab_from_webcam(filename)\n",
        "  im = plt.imread(filename)\n",
        "  return im\n",
        "\n",
        "def load_quickdraw(filename):\n",
        "  return 255 - np.load(filename)\n",
        "\n",
        "def get_quickdraw(filename,shape=(-1,28)):\n",
        "  data = load_quickdraw(filename)\n",
        "  dims = (len(data[:,0]),shape[0],shape[1])\n",
        "  return np.reshape(data,dims)\n",
        "\n",
        "def show_image(im):\n",
        "  if (len(im.shape)==2):\n",
        "      plt.imshow(im,cmap='gray')\n",
        "  else:\n",
        "    plt.imshow(im)\n",
        "\n",
        "def convert_to_grayscale(im):\n",
        "    rgb_weights = [0.2989, 0.5870, 0.1140]\n",
        "    return np.dot(im, rgb_weights).astype(int)\n",
        "\n",
        "def convert_to_color(im):\n",
        "  im_new = np.array([im,im,im])\n",
        "  im_new = np.swapaxes(im_new,0,2)\n",
        "  im_new = np.swapaxes(im_new,0,1)\n",
        "  return im_new\n",
        "  \n",
        "def convert_to_rectangular(im):\n",
        "  dims = im.shape\n",
        "  if (np.argmax(dims) == 1):\n",
        "    start = (dims[1] - dims[0])//2\n",
        "    if (len(dims) == 3):\n",
        "      im_rect = im[:,start:start+dims[0],:] \n",
        "    else:\n",
        "      im_rect = im[:,start:start+dims[0]]\n",
        "  else:\n",
        "    start = (dims[0] - dims[1])//2\n",
        "    if (len(dims) == 3):\n",
        "      im_rect = im[start:start+dims[1],:,:] \n",
        "    else:\n",
        "      im_rect = im[start:start+dims[1],:]\n",
        "  return im_rect\n",
        "\n",
        "def convert_to_bw(im,threshold=128):\n",
        "    dims = im.shape\n",
        "    if (len(dims) == 3):\n",
        "      im = convert_to_grayscale(im)\n",
        "    im_bw = (im>threshold)*255\n",
        "    return im_bw\n",
        "\n",
        "def shrink(im,size=(28,28)):\n",
        "  dims = im.shape\n",
        "  if (len(dims) == 3):\n",
        "    return resize(im,(size[0],size[1],dims[2]),preserve_range=True,anti_aliasing=True).astype(int)\n",
        "  else:\n",
        "    return resize(im,size,preserve_range=True,anti_aliasing=True).astype(int)\n",
        "\n",
        "def convert_to_sketch(im,threshold=128,size=(28,28),bw=False):\n",
        "\n",
        "  im_rect = convert_to_rectangular(im)\n",
        "\n",
        "  if (len(im.shape)==3):\n",
        "    im_gray = convert_to_grayscale(im_rect)\n",
        "  else:\n",
        "    im_gray = im_rect\n",
        "\n",
        "  im_bw = convert_to_bw(im_gray,threshold)\n",
        "\n",
        "  im_scaled = shrink(im_bw,size)\n",
        "\n",
        "  if (bw):\n",
        "    threshold2 = 210\n",
        "    return ((im_scaled>threshold2)*255).astype(int)\n",
        "  else:\n",
        "    return im_scaled"
      ],
      "metadata": {
        "id": "3ZrSf3gqLRQ-"
      },
      "id": "3ZrSf3gqLRQ-",
      "execution_count": 3,
      "outputs": []
    },
    {
      "cell_type": "code",
      "source": [
        "banana_full = get_quickdraw(\"/content/full_numpy_bitmap_banana.npy\")\n",
        "broom_full =  get_quickdraw(\"/content/full_numpy_bitmap_broom.npy\")\n",
        "\n",
        "banana_full = banana_full[range(0, 30000), :, :]\n",
        "broom_full = broom_full[range(0, 30000), :, :]\n",
        "\n",
        "banana_full = banana_full.reshape(30000, -1)\n",
        "broom_full = broom_full.reshape(30000, -1)"
      ],
      "metadata": {
        "id": "5MwbrCBIz-IL"
      },
      "id": "5MwbrCBIz-IL",
      "execution_count": 4,
      "outputs": []
    },
    {
      "cell_type": "code",
      "source": [
        "zeros = np.zeros((30000, 1))\n",
        "ones = np.ones((30000, 1))\n",
        "\n",
        "labels = np.concatenate((ones, zeros))\n",
        "\n",
        "full_data = np.concatenate((banana_full, broom_full))\n",
        "\n",
        "full_data = np.concatenate((labels, full_data), axis = 1)"
      ],
      "metadata": {
        "id": "ieyS0Mae3XBJ"
      },
      "id": "ieyS0Mae3XBJ",
      "execution_count": 5,
      "outputs": []
    },
    {
      "cell_type": "code",
      "source": [
        "y = full_data[:, 0]\n",
        "X = full_data[:, range(1, 785)]"
      ],
      "metadata": {
        "id": "bAxuT7rw71VF"
      },
      "id": "bAxuT7rw71VF",
      "execution_count": 6,
      "outputs": []
    },
    {
      "cell_type": "code",
      "source": [
        "from sklearn.model_selection import train_test_split\n",
        "\n",
        "X_train, X_test, y_train, y_test = train_test_split(X, y, test_size=0.2, random_state=6)"
      ],
      "metadata": {
        "id": "m4MsXRl780uT"
      },
      "id": "m4MsXRl780uT",
      "execution_count": 7,
      "outputs": []
    },
    {
      "cell_type": "code",
      "source": [
        "model = MLPClassifier(hidden_layer_sizes = (10, 10, 10, 10), max_iter = 10000)\n",
        "\n",
        "model.fit(X_train, y_train)\n",
        "score_train = model.score(X_train, y_train)\n",
        "print (score_train)"
      ],
      "metadata": {
        "id": "eHs1p5211GVh",
        "colab": {
          "base_uri": "https://localhost:8080/"
        },
        "outputId": "a8fdb508-f6b5-4c60-9ff5-5bca4259aee2"
      },
      "id": "eHs1p5211GVh",
      "execution_count": 8,
      "outputs": [
        {
          "output_type": "stream",
          "name": "stdout",
          "text": [
            "0.9552291666666667\n"
          ]
        }
      ]
    },
    {
      "cell_type": "code",
      "source": [
        "y_test_predict = model.predict(X_test)\n",
        "score_test = model.score(X_test, y_test)\n",
        "print (score_test)"
      ],
      "metadata": {
        "id": "LwodfTyX-sTX",
        "colab": {
          "base_uri": "https://localhost:8080/"
        },
        "outputId": "84ac7c08-7637-4ef4-94eb-f99f6bf6422f"
      },
      "id": "LwodfTyX-sTX",
      "execution_count": 9,
      "outputs": [
        {
          "output_type": "stream",
          "name": "stdout",
          "text": [
            "0.9505\n"
          ]
        }
      ]
    },
    {
      "cell_type": "code",
      "source": [
        "from joblib import dump, load\n",
        "import gdown"
      ],
      "metadata": {
        "id": "D9lr6AsVgs3W"
      },
      "id": "D9lr6AsVgs3W",
      "execution_count": 10,
      "outputs": []
    },
    {
      "cell_type": "code",
      "source": [
        "v = 0\n",
        "\n",
        "while v < 100:\n",
        "  image_file = str(input('import google drive file here:'))\n",
        "  image_file = image_file.replace('https://drive.google.com/file/d/', \"\")\n",
        "  image_file = image_file.replace('/view?usp=sharing', \"\")\n",
        "  output = str(input('type file name (with .jpg or .png):'))\n",
        "\n",
        "  gdown.download(id=image_file, output=output, quiet = True)\n",
        "\n",
        "  image = plt.imread(f\"{output}\") \n",
        "  image = convert_to_sketch(image, threshold = 100)\n",
        "  plt.imshow(image, cmap = 'gray')\n",
        "\n",
        "  image = image.reshape(1, -1)\n",
        "\n",
        "  image_predict = model.predict(image)\n",
        "  if image_predict[0] == 1: #if banana\n",
        "    is_banana = str(input('This is a banana? type, \"yes\" or \"no\"'))\n",
        "    if is_banana == \"yes\":\n",
        "      print(\":)\")\n",
        "    else:\n",
        "      print(\"Sorry, it must be a broom\")\n",
        "  else: #if broom\n",
        "    is_broom = str(input('This a broom? type, \"yes\" or \"no\"'))\n",
        "    if is_broom == \"yes\":\n",
        "      print(\":)\")\n",
        "    else:\n",
        "      print(\"Sorry, it must be a banana\")\n",
        "\n",
        "  function_continue = str(input('do you want to input another file? type \"yes\" or \"no\"'))\n",
        "  if function_continue == \"yes\":\n",
        "    v += 1\n",
        "  else:\n",
        "    v = 101"
      ],
      "metadata": {
        "id": "hQp2r-F1d7z2",
        "colab": {
          "base_uri": "https://localhost:8080/",
          "height": 352
        },
        "outputId": "966f249d-3758-4651-cdcb-a495ff76a220"
      },
      "id": "hQp2r-F1d7z2",
      "execution_count": 14,
      "outputs": [
        {
          "name": "stdout",
          "output_type": "stream",
          "text": [
            "import google drive file here:https://drive.google.com/file/d/1zw5fopSBL8Em8wehipbYRvkSCvuvg98f/view?usp=sharing\n",
            "type file name (with .jpg or .png):banana.jpg\n",
            "This is a banana? type, \"yes\" or \"no\"yes\n",
            ":)\n",
            "do you want to input another file? type \"yes\" or \"no\"no\n"
          ]
        },
        {
          "output_type": "display_data",
          "data": {
            "text/plain": [
              "<Figure size 432x288 with 1 Axes>"
            ],
            "image/png": "[encoded data removed]"
          },
          "metadata": {
            "needs_background": "light"
          }
        }
      ]
    }
  ],
  "metadata": {
    "kernelspec": {
      "display_name": "Python 3 (ipykernel)",
      "language": "python",
      "name": "python3"
    },
    "language_info": {
      "codemirror_mode": {
        "name": "ipython",
        "version": 3
      },
      "file_extension": ".py",
      "mimetype": "text/x-python",
      "name": "python",
      "nbconvert_exporter": "python",
      "pygments_lexer": "ipython3",
      "version": "3.9.7"
    },
    "colab": {
      "provenance": []
    }
  },
  "nbformat": 4,
  "nbformat_minor": 5
}